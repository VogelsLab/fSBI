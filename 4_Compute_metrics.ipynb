{
 "cells": [
  {
   "cell_type": "code",
   "execution_count": null,
   "id": "e68c908b",
   "metadata": {
    "ExecuteTime": {
     "end_time": "2022-10-12T14:42:59.983534Z",
     "start_time": "2022-10-12T14:42:58.766894Z"
    }
   },
   "outputs": [],
   "source": [
    "from fsbi.analyse import ComputeMetrics\n",
    "from fsbi.utils import get_density_estim_data, save_metric\n",
    "import numpy as np\n",
    "import yaml\n",
    "import h5py\n",
    "import time"
   ]
  },
  {
   "cell_type": "markdown",
   "id": "2ea76684",
   "metadata": {},
   "source": [
    "#### Which metrics to compute"
   ]
  },
  {
   "cell_type": "markdown",
   "id": "a0ff1e39",
   "metadata": {},
   "source": [
    "##### Polynomial rules"
   ]
  },
  {
   "cell_type": "code",
   "execution_count": null,
   "id": "28c113c0",
   "metadata": {},
   "outputs": [],
   "source": [
    "metrics = [\"rate\",\"cv_isi\",\"kl_isi\",\"spatial_Fano\",\"temporal_Fano\",\"auto_cov\",\"fft\",\"w_blow\",\n",
    "           \"std_rate_temporal\",\"std_rate_spatial\",\"std_cv\",\"w_creep\",\"rate_i\",\n",
    "           \"weef\",\"weif\",\"wief\",\"wiif\"]\n",
    "\n",
    "round_name = \"pi3_r5to10Hz\"\n",
    "h5_path = \"data_synapsesbi/bg_IF_EEEIIEII_6pPol/\" + str(round_name) + \".h5\""
   ]
  },
  {
   "cell_type": "markdown",
   "id": "ef944934",
   "metadata": {
    "jp-MarkdownHeadingCollapsed": true
   },
   "source": [
    "##### OR MLP rules"
   ]
  },
  {
   "cell_type": "code",
   "execution_count": null,
   "id": "c8d2f52c",
   "metadata": {},
   "outputs": [],
   "source": [
    "#EI and II are not plastic so weif and wiif are not defined)\n",
    "metrics = [\"rate\",\"cv_isi\",\"kl_isi\",\"spatial_Fano\",\"temporal_Fano\",\"auto_cov\",\"fft\",\"w_blow\",\n",
    "           \"std_rate_temporal\",\"std_rate_spatial\",\"std_cv\",\"w_creep\",\"rate_i\",\n",
    "           \"weef\",\"wief\"]\n",
    "\n",
    "round_name = \"pi3_r5to10Hz\"\n",
    "h5_path = \"data_synapsesbi/bg_CVAIF_EEIE_T4wvceciMLP/\" + str(round_name) + \".h5\""
   ]
  },
  {
   "cell_type": "markdown",
   "id": "c66c2a0d",
   "metadata": {},
   "source": [
    "#### Compute the metrics"
   ]
  },
  {
   "cell_type": "code",
   "execution_count": null,
   "id": "7ea15944",
   "metadata": {},
   "outputs": [],
   "source": [
    "start = time.time()\n",
    "output = get_density_estim_data(h5_path, metrics, parallel=True, n_workers=10) #change number of workers depending on your workstation\n",
    "print(time.time()-start, \"s\")"
   ]
  },
  {
   "cell_type": "markdown",
   "id": "0e1a6db2",
   "metadata": {},
   "source": [
    "#### Save the data"
   ]
  },
  {
   "cell_type": "code",
   "execution_count": null,
   "id": "1280e155",
   "metadata": {},
   "outputs": [],
   "source": [
    "default_path = h5_path[:-3] + \"_metrics.npy\"\n",
    "\n",
    "save_metric(path=default_path,\n",
    "            data=output)"
   ]
  },
  {
   "cell_type": "markdown",
   "id": "694c0d20",
   "metadata": {},
   "source": [
    "The network metrics have been now been computed.\n",
    "\n",
    "Head over to Analysis/example.ipynd to check if the rules sampled indeed corresponded to what was required"
   ]
  }
 ],
 "metadata": {
  "kernelspec": {
   "display_name": "Python 3 (ipykernel)",
   "language": "python",
   "name": "python3"
  },
  "language_info": {
   "codemirror_mode": {
    "name": "ipython",
    "version": 3
   },
   "file_extension": ".py",
   "mimetype": "text/x-python",
   "name": "python",
   "nbconvert_exporter": "python",
   "pygments_lexer": "ipython3",
   "version": "3.11.7"
  },
  "latex_envs": {
   "LaTeX_envs_menu_present": true,
   "autoclose": false,
   "autocomplete": true,
   "bibliofile": "biblio.bib",
   "cite_by": "apalike",
   "current_citInitial": 1,
   "eqLabelWithNumbers": true,
   "eqNumInitial": 1,
   "hotkeys": {
    "equation": "Ctrl-E",
    "itemize": "Ctrl-I"
   },
   "labels_anchors": false,
   "latex_user_defs": false,
   "report_style_numbering": false,
   "user_envs_cfg": false
  }
 },
 "nbformat": 4,
 "nbformat_minor": 5
}
