{
 "cells": [
  {
   "cell_type": "code",
   "execution_count": 1,
   "id": "2d51dcdc",
   "metadata": {
    "ExecuteTime": {
     "end_time": "2022-10-17T18:40:33.920688Z",
     "start_time": "2022-10-17T18:40:32.596383Z"
    },
    "scrolled": false
   },
   "outputs": [],
   "source": [
    "import argparse\n",
    "from os import makedirs, listdir\n",
    "from synapsbi.prior import RestrictedPrior as Prior\n",
    "import submitit\n",
    "from synapsbi.utils import save_data_to_hdf5, read_monitor_weights_files, _make_unique_samples, _forward, get_output_cluster\n",
    "from synapsbi.simulator import make_param_files_cluster\n",
    "import numpy as np\n",
    "import yaml\n",
    "import h5py\n",
    "import matplotlib\n",
    "\n",
    "import pickle\n",
    "from concurrent import futures\n",
    "from torch import FloatTensor as FT\n",
    "import matplotlib.pyplot as plt\n",
    "import torch"
   ]
  },
  {
   "cell_type": "markdown",
   "id": "dd052aab",
   "metadata": {},
   "source": [
    "#### 1/ Simulation parameters, hardware options for polynomial rules"
   ]
  },
  {
   "cell_type": "code",
   "execution_count": 9,
   "id": "62628d6f",
   "metadata": {
    "ExecuteTime": {
     "end_time": "2022-10-17T18:40:33.928639Z",
     "start_time": "2022-10-17T18:40:33.923499Z"
    }
   },
   "outputs": [],
   "source": [
    "save_dir = \"data_synapsesbi/bg_IF_EEEIIEII_6pPol/\"\n",
    "runs_path = \"runs_synapsesbi/bg_IF_EEEIIEII_6pPol/\"\n",
    "task_name = \"bg_IF_EEEIIEII_6pPol\"\n",
    "round_name = \"pi3_r5to10Hz\"\n",
    "from synapsbi.simulator import Simulator_bg_IF_EEEIIEII_6pPol as Simulator\n",
    "\n",
    "#For parallel execution on local computer\n",
    "hardware = \"local\"\n",
    "parallel_args = dict()\n",
    "parallel_args[\"max_workers\"]= 10 #depending on how many cpus are available\n",
    "\n",
    "#Get simulator params and make simulator\n",
    "with open(\"tasks_configs/%s.yaml\" % task_name, \"r\") as f:\n",
    "    simulator_params = yaml.load(f, Loader=yaml.Loader)\n",
    "simulator = Simulator(simulator_params)"
   ]
  },
  {
   "cell_type": "markdown",
   "id": "f80bfb3c",
   "metadata": {
    "heading_collapsed": true
   },
   "source": [
    "#### 1 bis/ Simulation parameters, hardware options for MLP rules"
   ]
  },
  {
   "cell_type": "code",
   "execution_count": 8,
   "id": "f2222d0f",
   "metadata": {
    "hidden": true
   },
   "outputs": [],
   "source": [
    "save_dir = \"data_synapsesbi/bg_CVAIF_EEIE_T4wvceciMLP/\"\n",
    "runs_path = \"runs_synapsesbi/bg_CVAIF_EEIE_T4wvceciMLP/\"\n",
    "task_name = \"bg_CVAIF_EEIE_T4wvceciMLP\"\n",
    "round_name = \"pi3_r5to10Hz\"\n",
    "from synapsbi.simulator import Simulator_bg_CVAIF_EEIE_T4wvceciMLP as Simulator\n",
    "\n",
    "#For parallel execution on local computer\n",
    "hardware = \"local\"\n",
    "parallel_args = dict()\n",
    "parallel_args[\"max_workers\"]= 10 #depending on how many cpus are available\n",
    "\n",
    "#Get simulator params and make simulator\n",
    "with open(\"tasks_configs/%s.yaml\" % task_name, \"r\") as f:\n",
    "    simulator_params = yaml.load(f, Loader=yaml.Loader)\n",
    "simulator = Simulator(simulator_params)"
   ]
  },
  {
   "cell_type": "markdown",
   "id": "cfc58737",
   "metadata": {},
   "source": [
    "#### Use samples generated in previous notebook"
   ]
  },
  {
   "cell_type": "code",
   "execution_count": 10,
   "id": "0d96cbb6",
   "metadata": {},
   "outputs": [],
   "source": [
    "thetas = np.load(save_dir + \"post_samples_\" + round_name + \".npz\")[\"thetas\"]\n",
    "num_samples = len(thetas)\n",
    "\n",
    "thetas, seeds = _make_unique_samples(num_samples, \n",
    "                                     prior=None,\n",
    "                                     thetas=thetas,\n",
    "                                     saved_seeds=[])"
   ]
  },
  {
   "cell_type": "markdown",
   "id": "1b381e80",
   "metadata": {},
   "source": [
    "#### Simulate the samples"
   ]
  },
  {
   "cell_type": "markdown",
   "id": "245f89cf",
   "metadata": {},
   "source": [
    "Refer to readme to make sure the spiking network simulator Auryn is installed on your machine"
   ]
  },
  {
   "cell_type": "code",
   "execution_count": 11,
   "id": "b833655e",
   "metadata": {},
   "outputs": [],
   "source": [
    "### prepare thetas for the simulation\n",
    "parameters = [dict(simulator=simulator,\n",
    "                   thetas=th.reshape(1, -1),\n",
    "                   seeds=[seed],\n",
    "                   return_data=False)\n",
    "              for th, seed in zip(thetas, seeds)][:num_samples]"
   ]
  },
  {
   "cell_type": "code",
   "execution_count": 12,
   "id": "70e2e428",
   "metadata": {},
   "outputs": [
    {
     "name": "stdout",
     "output_type": "stream",
     "text": [
      "(10, 1, 25)\n"
     ]
    },
    {
     "data": {
      "image/png": "[encoded data removed]",
      "text/plain": [
       "<Figure size 300x200 with 1 Axes>"
      ]
     },
     "metadata": {},
     "output_type": "display_data"
    }
   ],
   "source": [
    "## Quick look at the samples\n",
    "try:\n",
    "    a = np.array([i['thetas'].numpy() for i in parameters])\n",
    "except:\n",
    "    a = np.array([i['thetas'] for i in parameters])\n",
    "print(a.shape)\n",
    "\n",
    "fig = plt.figure(figsize=(3, 2)), plt.scatter(a[:,0,2],a[:,0,3], s = 1); plt.show()"
   ]
  },
  {
   "cell_type": "code",
   "execution_count": 14,
   "id": "46d481e5",
   "metadata": {},
   "outputs": [],
   "source": [
    "## Collect the results\n",
    "outputs = []\n",
    "for job in jobs:\n",
    "    outputs.append(job.result())\n",
    "#     print(job.result())"
   ]
  },
  {
   "cell_type": "markdown",
   "id": "eed449ca",
   "metadata": {},
   "source": [
    "#### Store simulations"
   ]
  },
  {
   "cell_type": "code",
   "execution_count": 15,
   "id": "893a5746",
   "metadata": {},
   "outputs": [
    {
     "name": "stdout",
     "output_type": "stream",
     "text": [
      "fraction of blown up simulations: 0.0\n"
     ]
    }
   ],
   "source": [
    "print(\"fraction of blown up simulations:\", sum(np.array(outputs) > 0) / len(outputs))"
   ]
  },
  {
   "cell_type": "code",
   "execution_count": 16,
   "id": "092fd30b",
   "metadata": {
    "ExecuteTime": {
     "end_time": "2022-10-17T18:41:25.689339Z",
     "start_time": "2022-10-17T18:41:25.062333Z"
    }
   },
   "outputs": [
    {
     "data": {
      "application/vnd.jupyter.widget-view+json": {
       "model_id": "1d43dbd1a2b148e1a67b3901a2b50ace",
       "version_major": 2,
       "version_minor": 0
      },
      "text/plain": [
       "0it [00:00, ?it/s]"
      ]
     },
     "metadata": {},
     "output_type": "display_data"
    },
    {
     "name": "stdout",
     "output_type": "stream",
     "text": [
      "Do you want to remove all auryn monitor files? (y/n):y\n",
      "deleting all monitor files\n"
     ]
    },
    {
     "data": {
      "text/plain": [
       "()"
      ]
     },
     "execution_count": 16,
     "metadata": {},
     "output_type": "execute_result"
    }
   ],
   "source": [
    "save_data_to_hdf5(save_dir + round_name + \".h5\",\n",
    "                  thetas=thetas,\n",
    "                  seeds=seeds,\n",
    "                  spiketimes_workdir=simulator_params[\"workdir\"],\n",
    "                  con_type=simulator_params[\"con_type\"],\n",
    "                  outputs=outputs,\n",
    "                  params=simulator_params)"
   ]
  },
  {
   "cell_type": "markdown",
   "id": "e9e0712c",
   "metadata": {},
   "source": [
    "Congratulations, you have now simulated your rules in spiking networks and stored the raw weight traces and spike trains.\n",
    "Now head over to Compute_metrics to compute start the analysis of your simulations"
   ]
  },
  {
   "cell_type": "markdown",
   "id": "2a20b682",
   "metadata": {
    "heading_collapsed": true
   },
   "source": [
    "##### Bonus: initial round (if you want to refilter rules from scratch)"
   ]
  },
  {
   "cell_type": "markdown",
   "id": "7e3fa4b2",
   "metadata": {
    "heading_collapsed": true,
    "hidden": true
   },
   "source": [
    "###### If round 0: draw samples from prior, WITHOUT classifier"
   ]
  },
  {
   "cell_type": "code",
   "execution_count": null,
   "id": "43ba2a1d",
   "metadata": {
    "hidden": true
   },
   "outputs": [],
   "source": [
    "### POLY\n",
    "# prior_cls = \"_Prior_bg_IF_EEEIIEII_6pPol\"\n",
    "# prior_cls_args = dict(lower_lim=[0.01, 0.01, -2., -2., -2., -2.,\n",
    "#                          0.01, 0.01, -2., -2., -2., -2.,\n",
    "#                          0.01, 0.01, -2., -2., -2., -2.,\n",
    "#                          0.01, 0.01, -2., -2., -2., -2.,\n",
    "#                          5],\n",
    "#               upper_lim=[.1, .1, 2., 2., 2., 2.,\n",
    "#                          .1, .1, 2., 2., 2., 2.,\n",
    "#                          .1, .1, 2., 2., 2., 2.,\n",
    "#                          .1, .1, 2., 2., 2., 2.,\n",
    "#                          15]\n",
    "#                      )\n",
    "\n",
    "## MLP\n",
    "# prior_cls = \"_Prior_bg_CVAIF_EEIE_T4wvceciMLP\"\n",
    "# prior_cls_args = dict(lower_lim=[0., 0., -1., -1., -1., -1., #etaEE, etaIE, WpreEE, WpostEE, WpreIE, WpostIE\n",
    "#                 -1., -1., -1., -1., -1., -1.,\n",
    "#                 -1., -1., -1., -1., -1., -1.,\n",
    "#                 -1., -1., -1., -1., 5],\n",
    "#     upper_lim= [1., 1., 1., 1., 1., 1., #etaEE, etaIE, WpreEE, WpostEE, WpreIE, WpostIE\n",
    "#                 1., 1., 1., 1., 1., 1.,\n",
    "#                 1., 1., 1., 1., 1., 1.,\n",
    "#                 1., 1., 1., 1., 15])\n",
    "\n",
    "\n",
    "\n",
    "prior = Prior(prior_class=prior_cls,\n",
    "              prior_class_args=prior_cls_args,\n",
    "              return_numpy=False,\n",
    "              restrict_prior=False,\n",
    "              )\n",
    "\n",
    "num_samples = 10\n",
    "thetas, seeds = _make_unique_samples((num_samples,),\n",
    "                                     prior=prior,\n",
    "                                     saved_seeds=[])"
   ]
  },
  {
   "cell_type": "markdown",
   "id": "135ae99a",
   "metadata": {
    "heading_collapsed": true,
    "hidden": true
   },
   "source": [
    "###### If round 0+: draw samples from prior + classifier\n",
    "\n",
    "We train a classifier on the training set to accept or reject new samples (for sample efficiency),\n",
    "this is introduced and explained in ______________"
   ]
  },
  {
   "cell_type": "code",
   "execution_count": null,
   "id": "0c575b46",
   "metadata": {
    "hidden": true
   },
   "outputs": [],
   "source": [
    "## load training data for classifier\n",
    "\n",
    "## POLY\n",
    "# metrics_for_classifier = np.load(save_dir + \"box_prior_metrics.npy\")\n",
    "\n",
    "## MLP\n",
    "# metrics_for_classifier = np.load(save_dir + \"box_prior_metrics.npy\")\n",
    "\n",
    "\n",
    "theta_classifier, x_classifier = FT(metrics_for_classifier['theta']), FT(metrics_for_classifier['rate'])\n",
    "sum(~torch.isfinite(x_classifier)) / len(x_classifier)"
   ]
  }
 ],
 "metadata": {
  "kernelspec": {
   "display_name": "Python 3 (ipykernel)",
   "language": "python",
   "name": "python3"
  },
  "language_info": {
   "codemirror_mode": {
    "name": "ipython",
    "version": 3
   },
   "file_extension": ".py",
   "mimetype": "text/x-python",
   "name": "python",
   "nbconvert_exporter": "python",
   "pygments_lexer": "ipython3",
   "version": "3.10.6"
  },
  "latex_envs": {
   "LaTeX_envs_menu_present": true,
   "autoclose": false,
   "autocomplete": true,
   "bibliofile": "biblio.bib",
   "cite_by": "apalike",
   "current_citInitial": 1,
   "eqLabelWithNumbers": true,
   "eqNumInitial": 1,
   "hotkeys": {
    "equation": "Ctrl-E",
    "itemize": "Ctrl-I"
   },
   "labels_anchors": false,
   "latex_user_defs": false,
   "report_style_numbering": false,
   "user_envs_cfg": false
  },
  "vscode": {
   "interpreter": {
    "hash": "83c619fe57d15949781b552aaf9d4e0480a0600b289546120ba0f5c70393890a"
   }
  }
 },
 "nbformat": 4,
 "nbformat_minor": 5
}
